{
  "nbformat": 4,
  "nbformat_minor": 0,
  "metadata": {
    "colab": {
      "provenance": [],
      "authorship_tag": "ABX9TyNe411wJnQdvFt6yyyMPns6",
      "include_colab_link": true
    },
    "kernelspec": {
      "name": "python3",
      "display_name": "Python 3"
    },
    "language_info": {
      "name": "python"
    }
  },
  "cells": [
    {
      "cell_type": "markdown",
      "metadata": {
        "id": "view-in-github",
        "colab_type": "text"
      },
      "source": [
        "<a href=\"https://colab.research.google.com/github/alsh02/basic-data-analysis-study/blob/main/%EA%B8%B0%EC%B4%88_%EB%8D%B0%EC%9D%B4%ED%84%B0_%EB%B6%84%EC%84%9D_%EC%8A%A4%ED%84%B0%EB%94%94_1%EC%B0%A8%EC%8B%9C.ipynb\" target=\"_parent\"><img src=\"https://colab.research.google.com/assets/colab-badge.svg\" alt=\"Open In Colab\"/></a>"
      ]
    },
    {
      "cell_type": "markdown",
      "source": [
        "# 기초 데이터 분석 스터디 1차시\n",
        "코딩은 **\"도구\"**입니다. 데이터 분석을 위해서는 데이터를 직접적으로 다뤄야하는데, 현대에서는 거의 대부분의 데이터는 컴퓨터 안에 존재합니다.\\\n",
        "따라서 저희는 컴퓨터와 소통하는 도구로써 코딩을 배워야 합니다.\\\n",
        "저희는 수많은 프로그래밍 언어 중에서 Python을 사용합니다."
      ],
      "metadata": {
        "id": "ADkhfhlwiKUK"
      }
    },
    {
      "cell_type": "markdown",
      "source": [
        "# 출력하기\n",
        "print() 라는 함수(함수는 아래에서 설명합니다!)를 이용해서 괄호 안에 넣은 것들을 **출력**할 수 있습니다.\\\n",
        "텍스트창에 마우스를 가져가면 나타나는 왼쪽의 버튼을 클릭하거나, 텍스트창을 클릭한 후 ctrl + Enter를 입력하면 코드가 실행됩니다.\n",
        "\\\n",
        "\\\n",
        "예제 코드 아래에 있는 텍스트창에 출력하고 싶은 문장을 아무거나 출력해봅시다😊"
      ],
      "metadata": {
        "id": "L5eXusxCjc6L"
      }
    },
    {
      "cell_type": "code",
      "execution_count": null,
      "metadata": {
        "colab": {
          "base_uri": "https://localhost:8080/"
        },
        "id": "mZGXx-JwiGVx",
        "outputId": "23526931-8e50-4a7d-d99b-d4f21151e5d8"
      },
      "outputs": [
        {
          "output_type": "stream",
          "name": "stdout",
          "text": [
            "Hello Python!!\n"
          ]
        }
      ],
      "source": [
        "print(\"Hello Python!!\")"
      ]
    },
    {
      "cell_type": "code",
      "source": [
        "# 아무 문장이나 입력해보아요! <-- 이 초록 글씨는 주석입니다. 코드를 설명하기 위해서 사용합니다.\n",
        "\n",
        "# [-----코드 작성-----]"
      ],
      "metadata": {
        "id": "92j_G7WGlAXk"
      },
      "execution_count": null,
      "outputs": []
    },
    {
      "cell_type": "markdown",
      "source": [
        "# 변수와 자료형\n",
        "코딩을 하다보면 값을 저장하고 사용해야 할 때가 있습니다. 이를 위해서 **변수**가 필요합니다!\n",
        "\\\n",
        "변수란 **값을 저장하기 위한 이름을 가진 공간**입니다.\n",
        "\\\n",
        "\\\n",
        "파이썬에는 변수에 다양한 값들을 저장할 수 있습니다. 변수에 저장할 수 있는 값들의 유형을 **자료형**이라고 합니다. 파이썬에는 대표적으로 int, float, string, tuple, set, list, dictionary, boolean 등의 자료형이 있습니다.\n",
        "\\\n",
        "\\\n",
        "```int```           : 정수\\\n",
        "```float```         : 실수\\\n",
        "```string```        : 문자열\\\n",
        "```tuple```         : 튜플\\\n",
        "```set```           : 집합\\\n",
        "```list```          : 리스트\\\n",
        "```dictionary```    : 딕셔너리\\\n",
        "```boolean```       : 부울"
      ],
      "metadata": {
        "id": "SfAQKcqzmZgo"
      }
    },
    {
      "cell_type": "code",
      "source": [
        "# 이처럼 변수에 이름을 붙여 만드는 과정을 \"변수 선언\"이라고 하고,\n",
        "# 선언된 변수에 값을 집어넣는 과정을 \"변수 초기화\"라고 합니다.\n",
        "int_var = 1                             # 정수\n",
        "float_var = 0.5                         # 실수\n",
        "string_var = \"모연!\"                     # 문자열\n",
        "tuple_var = (1, 2, 3)                   # 튜플\n",
        "set_var = {4, 5, 6}                     # 집합\n",
        "list_var = [9, 8, 1]                    # 리스트\n",
        "dict_var = {\"apple\": 1, \"yello\": 34}    # 딕셔너리\n",
        "bool_var = True                         # 부울\n",
        "\n",
        "# 아래 코드는 각 변수의 자료형(type)을 출력하는 코드입니다. (결과값에 있는 class라는 개념은 이번 차시에는 넘어가도록 하겠습니다.)\n",
        "print(type(int_var))\n",
        "print(type(float_var))\n",
        "print(type(string_var))\n",
        "print(type(tuple_var))\n",
        "print(type(set_var))\n",
        "print(type(list_var))\n",
        "print(type(dict_var))\n",
        "print(type(bool_var))"
      ],
      "metadata": {
        "colab": {
          "base_uri": "https://localhost:8080/"
        },
        "id": "BaeR0stCoE-m",
        "outputId": "269b628e-bed0-4da9-9dff-a406b62ee671"
      },
      "execution_count": null,
      "outputs": [
        {
          "output_type": "stream",
          "name": "stdout",
          "text": [
            "<class 'int'>\n",
            "<class 'float'>\n",
            "<class 'str'>\n",
            "<class 'tuple'>\n",
            "<class 'set'>\n",
            "<class 'list'>\n",
            "<class 'dict'>\n",
            "<class 'bool'>\n"
          ]
        }
      ]
    },
    {
      "cell_type": "markdown",
      "source": [
        "# 연산자\n",
        "계산을 위해서 꼭 필요한 것은 연산자입니다. 덧셈을 위해서 덧셈 기호가 필요한 것처럼 말이죠!"
      ],
      "metadata": {
        "id": "8Ad41xLNp3rk"
      }
    },
    {
      "cell_type": "code",
      "source": [
        "# 변수 선언 & 초기화\n",
        "a = 7\n",
        "b = 2\n",
        "\n",
        "# 연산자\n",
        "print(a + b)    # 덧셈\n",
        "print(a - b)    # 뻴셈\n",
        "print(a * b)    # 곱셈\n",
        "print(a / b)    # 나눗셈\n",
        "print(a // b)   # 나눗셈 -> 몫만 구하기\n",
        "print(a % b)    # 나눗셈 -> 나머지만 구하기\n",
        "print(a ** b)   # 거듭제곱"
      ],
      "metadata": {
        "colab": {
          "base_uri": "https://localhost:8080/"
        },
        "id": "Aoj_5TFfqFZ7",
        "outputId": "f75a1120-729f-4630-92eb-5974e4d894a7"
      },
      "execution_count": null,
      "outputs": [
        {
          "output_type": "stream",
          "name": "stdout",
          "text": [
            "9\n",
            "5\n",
            "14\n",
            "3.5\n",
            "3\n",
            "1\n",
            "49\n"
          ]
        }
      ]
    },
    {
      "cell_type": "markdown",
      "source": [
        "# 조건문\n",
        "만약 17이 짝수인지 아닌지를 알아보기 위해서 어떻게 해야할까요?\\\n",
        "짝수란 2로 나누었을 때 나누어떨어지는 숫자입니다! 따라서 나누었을 때 나머지가 0인지 아닌지를 확인하면 됩니다!\\\n",
        "조금 다른 말로 하면 17을 2로 나눈 나머지가 0인지 아닌지를 판단하면 됩니다. 우리는 이를 **if문**을 통해 구현할 수 있습니다!"
      ],
      "metadata": {
        "id": "jCuZlPuKq86b"
      }
    },
    {
      "cell_type": "code",
      "source": [
        "number = 17\n",
        "\n",
        "if number % 2 == 0:\n",
        "    print(\"짝수입니다!\")\n",
        "else: # else 뒤에는 아무런 조건이 붙지 않습니다!\n",
        "    print(\"홀수입니다!\")"
      ],
      "metadata": {
        "colab": {
          "base_uri": "https://localhost:8080/"
        },
        "id": "LcuA0Tv1sIL0",
        "outputId": "9f3d08ba-d8dc-47fd-e152-c46e84967592"
      },
      "execution_count": null,
      "outputs": [
        {
          "output_type": "stream",
          "name": "stdout",
          "text": [
            "홀수입니다!\n"
          ]
        }
      ]
    },
    {
      "cell_type": "markdown",
      "source": [
        "위 코드에서 사용된 ```==``` 같은 연산자는 **\"비교 연산자\"**라고 합니다.\\\n",
        "비교 연산자로는 ==, !=, >, <, >=, <=이 있습니다.\n",
        "\\\n",
        "\\\n",
        "```==``` : 같은지 비교\\\n",
        "```!=``` : 다른지 비교\\\n",
        "```>``` : 왼쪽이 오른쪽보다 큰지 비교\\\n",
        "```<``` : 왼쪽이 오른쪽보다 작은지 비교\\\n",
        "```>=``` : 왼쪽이 오른쪽보다 크거나 같은지 비교\\\n",
        "```<=``` : 왼쪽이 오른쪽보다 작거나 같은지 비교"
      ],
      "metadata": {
        "id": "nnvUCoL4zGw1"
      }
    },
    {
      "cell_type": "markdown",
      "source": [
        "# 주의사항\n",
        "![스크린샷 2024-03-20 021139.png](data:image/png;base64,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)\\\n",
        "파이썬은 코드에서 **\"들여쓰기\"**가 굉장히 중요합니다. 들여쓰기 때문에 오류가 나는 경우도 있습니다!"
      ],
      "metadata": {
        "id": "S8ghzEGDsfLP"
      }
    },
    {
      "cell_type": "markdown",
      "source": [
        "## 예제\n",
        "조건문을 이용하여 다음 문제를 풀어봅시다!\n",
        "\n",
        "윤이는 이번 학기 교양을 하나 수강했는데, 총점이 90점이 나왔다. 이 때 교수님이 간단한 성적 기준을 제안하셨다.\n",
        "1. 90점 이상인 학생들은 A+\n",
        "2. 70점 이상 90점 미만인 학생들은 B+\n",
        "3. 50점 이상 70점 미만인 학생들은 C+\n",
        "4. 30점 이상 50점 미만인 학생들은 D+\n",
        "5. 나머지 학생들은 F\n",
        "\n",
        "이 때 위 기준을 바탕으로 윤이의 학점이 어떻게 되는지 출력해주는 코드를 작성해봅시다!"
      ],
      "metadata": {
        "id": "YiWedv5w3_vm"
      }
    },
    {
      "cell_type": "code",
      "source": [
        "# 윤이의 학점은??\n",
        "score = 90\n",
        "\n",
        "# [-----코드 작성-----]"
      ],
      "metadata": {
        "id": "eMru6oIb5Ah0"
      },
      "execution_count": null,
      "outputs": []
    },
    {
      "cell_type": "markdown",
      "source": [
        "# 반복문\n",
        "코드의 중복을 막기 위해서 같은 처리를 하나로 묶었다고 생각하면 됩니다."
      ],
      "metadata": {
        "id": "magpSmM5tyjK"
      }
    },
    {
      "cell_type": "markdown",
      "source": [
        "숫자를 1부터 10까지 출력하는 코드를 작성한다고 해봅시다. 지금까지의 내용을 바탕으로 하면 아래와 같이 코드를 작성할 수 있습니다."
      ],
      "metadata": {
        "id": "6v2obkabuBPI"
      }
    },
    {
      "cell_type": "code",
      "source": [
        "print(1)\n",
        "print(2)\n",
        "print(3)\n",
        "print(4)\n",
        "print(5)\n",
        "print(6)\n",
        "print(7)\n",
        "print(8)\n",
        "print(9)\n",
        "print(10)"
      ],
      "metadata": {
        "colab": {
          "base_uri": "https://localhost:8080/"
        },
        "id": "E5tuz91htyGN",
        "outputId": "bd263212-4b69-4c61-835e-b40f8c6d4d6e"
      },
      "execution_count": 14,
      "outputs": [
        {
          "output_type": "stream",
          "name": "stdout",
          "text": [
            "1\n",
            "2\n",
            "3\n",
            "4\n",
            "5\n",
            "6\n",
            "7\n",
            "8\n",
            "9\n",
            "10\n"
          ]
        }
      ]
    },
    {
      "cell_type": "markdown",
      "source": [
        "하지만 숫자가 커진다면 어떻게 될까요? 이를 일일히 다 작성하기엔 무리가 있을 것입니다.\\\n",
        "우리는 **for문**의 도움을 받아 이를 간략하게 표현할 수 있습니다!\n",
        "\\\n",
        "\\\n",
        "파이썬에서 반복문은\n",
        "```python\n",
        "for i in range(start, stop, step)\n",
        "```\n",
        "의 형태로 작성합니다. start는 시작할 숫자, stop은 끝낼 숫자, step은 시작할 숫자와 끝낼 숫자 사이의 간격을 의미합니다. start와 step은 생략될 수 있습니다(각각 기본값이 0과 1입니다)."
      ],
      "metadata": {
        "id": "b7l6N87kubzd"
      }
    },
    {
      "cell_type": "code",
      "source": [
        "for i in range(1, 11): # stop은 내가 멈추고자 할 숫자보다 1이 커야합니다. -> 10 + 1 = 11\n",
        "    print(i)"
      ],
      "metadata": {
        "colab": {
          "base_uri": "https://localhost:8080/"
        },
        "id": "5PMHgigEunJ9",
        "outputId": "ef4f703c-d01e-4a33-8f62-4a48f9fd938a"
      },
      "execution_count": 16,
      "outputs": [
        {
          "output_type": "stream",
          "name": "stdout",
          "text": [
            "1\n",
            "2\n",
            "3\n",
            "4\n",
            "5\n",
            "6\n",
            "7\n",
            "8\n",
            "9\n",
            "10\n"
          ]
        }
      ]
    },
    {
      "cell_type": "markdown",
      "source": [
        "## 예제\n",
        "변수와 반복문을 이용해서 1부터 10까지의 합을 구하는 코드를 작성해봅시다!"
      ],
      "metadata": {
        "id": "7O2-UZKK3S8w"
      }
    },
    {
      "cell_type": "code",
      "source": [
        "# 1부터 10까지의 합을 구하는 코드\n",
        "sum = 0\n",
        "\n",
        "# [-----코드 작성-----]"
      ],
      "metadata": {
        "id": "ioB93iNj3Svh"
      },
      "execution_count": null,
      "outputs": []
    },
    {
      "cell_type": "markdown",
      "source": [
        "# in 뒤에는 range()만??\n",
        "\n",
        "```in``` 뒤에 들어갈 수 있는 것은 ```range()```만이 아닙니다. 하나씩값을 가져올 수 있는 자료형은 모두 ```in``` 뒤에 들어갈 수 있습니다.\\\n",
        "이를 멋진 말로 **iterable**하다고 합니다. iterable한 자료형으로는 string, set, tuple, list 등이 있습니다.\n",
        "\\\n",
        "\\\n",
        "예를 들어, 만약 리스트의 값들을 하나씩 불러온 다음 출력하는 코드는 다음과 같이 작성할 수 있습니다."
      ],
      "metadata": {
        "id": "eFMhbAuZvNVs"
      }
    },
    {
      "cell_type": "code",
      "source": [
        "arr = [4, 5, 9, 10]\n",
        "\n",
        "for element in arr: # for 뒤의 변수 이름이 꼭 i일 필요는 없습니다!\n",
        "    print(element)"
      ],
      "metadata": {
        "colab": {
          "base_uri": "https://localhost:8080/"
        },
        "id": "6c-YKnRJwriz",
        "outputId": "2a32f45e-30dd-4890-e74e-5f4147ad0947"
      },
      "execution_count": 17,
      "outputs": [
        {
          "output_type": "stream",
          "name": "stdout",
          "text": [
            "4\n",
            "5\n",
            "9\n",
            "10\n"
          ]
        }
      ]
    },
    {
      "cell_type": "markdown",
      "source": [
        "# 리스트 다루기\n",
        "리스트는 굉장히 유용한 자료형입니다. 리스트 안에는 여러 값들을 넣을 수 있습니다.\\\n",
        "앞에서 언급했듯이 여러 개의 원소로 구성되어있기 때문에 각 원소에 하나씩 접근할 수 있고 이 때문에 iterable한 자료형입니다!"
      ],
      "metadata": {
        "id": "PCBzpP2c0qNo"
      }
    },
    {
      "cell_type": "markdown",
      "source": [
        "## 리스트 슬라이싱\n",
        "리스트에 저장된 원소들의 순서를 **인덱스**라고 하고, 이를 이용해서 리스트의 몇 개의 원소만 가져올 수 있도록 리스트를 자르는 것을 **리스트 슬라이싱**이라고 합니다.\n",
        "모든 프로그래밍 언어의 첫번째 인덱스는 1이 아니라 **0입니다!**\n",
        "\\\n",
        "\\\n",
        "리스트 슬라이싱은 다음과 같이 작성합니다.\n",
        "```python\n",
        "arr[start_idx : end_idx : step]\n",
        "```\n",
        "start_idx는 시작 인덱스, end_idx는 끝 인덱스, step은 start_idx와 end_idx의 간격을 의미합니다."
      ],
      "metadata": {
        "id": "2OrQDmPB1Zy3"
      }
    },
    {
      "cell_type": "code",
      "source": [
        "arr = [1, 2, 3, 4, 5, 6]\n",
        "\n",
        "print(arr[0])       # 인덱스를 통해서 0번 인덱스의 원소를 불러와 출력합니다\n",
        "print(arr[2:4])     # 2번 인덱스부터 4번 인덱스 전까지의 원소를 불러와 출력합니다.\n",
        "print(arr[:])       # 리스트의 모든 원소를 출력합니다.\n",
        "print(arr[::-1])    # 리스트의 원소를 순서를 거꾸로 하여 출력합니다."
      ],
      "metadata": {
        "colab": {
          "base_uri": "https://localhost:8080/"
        },
        "id": "uZhmuFSS0p6q",
        "outputId": "32d2ee30-6691-48b3-daa4-eee8dbb2031f"
      },
      "execution_count": 40,
      "outputs": [
        {
          "output_type": "stream",
          "name": "stdout",
          "text": [
            "1\n",
            "[3, 4]\n",
            "[1, 2, 3, 4, 5, 6]\n",
            "[6, 5, 4, 3, 2, 1]\n"
          ]
        }
      ]
    },
    {
      "cell_type": "markdown",
      "source": [
        "## 예제\n",
        "임의로 길이가 5인 리스트를 선언한 뒤, 두번째부터 마지막 원소까지 슬라이싱하여 그 결과를 출력하는 코드를 작성해봅시다!"
      ],
      "metadata": {
        "id": "jVocMjUD5anV"
      }
    },
    {
      "cell_type": "code",
      "source": [
        "arr = # [-----코드 작성-----]\n",
        "\n",
        "# [-----코드 작성-----]"
      ],
      "metadata": {
        "id": "B1Fmq4Hp35_f"
      },
      "execution_count": null,
      "outputs": []
    }
  ]
}